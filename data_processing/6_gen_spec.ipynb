{
 "cells": [
  {
   "cell_type": "code",
   "execution_count": null,
   "metadata": {},
   "outputs": [],
   "source": [
    "import librosa\n",
    "import matplotlib.pyplot as plt\n",
    "import librosa.display\n",
    "import os\n",
    "import numpy as np\n",
    "from IPython.display import Audio\n",
    "import wave\n",
    "import pandas as pd\n",
    "import matplotlib.pyplot as plt\n",
    "import matplotlib\n",
    "from scipy.io import wavfile\n",
    "from scipy.signal import spectrogram\n",
    "import tensorflow as tf\n",
    "import tensorflow_io as tfio\n",
    "from IPython.display import Audio"
   ]
  },
  {
   "cell_type": "code",
   "execution_count": null,
   "metadata": {},
   "outputs": [],
   "source": [
    "root_fp = \"../../DATA/ml-stuttering-events-dataset/\"\n",
    "CLIPS_DIR = \"/home/alien/Git/DATA/ml-stuttering-events-dataset/CLIP_DIR/\"\n",
    "df = pd.read_csv(\"/home/alien/Git/DATA/ml-stuttering-events-dataset/SEP-28k_labels.csv\")\n",
    "df.head()\n",
    "df.shape"
   ]
  },
  {
   "cell_type": "code",
   "execution_count": null,
   "metadata": {},
   "outputs": [],
   "source": [
    "import matplotlib.pyplot as plt\n",
    "from scipy.io import wavfile\n",
    "from scipy.signal import spectrogram\n",
    "import numpy as np\n",
    "\n",
    "# Load the WAV file\n",
    "sample_rate, samples = wavfile.read('/home/alien/Git/DATA/ml-stuttering-events-dataset/CLIP_DIR/HeStutters/0/HeStutters_0_1.wav')\n",
    "\n",
    "# Create the spectrogram\n",
    "frequencies, times, spectrogram_data = spectrogram(samples, sample_rate)\n",
    "\n",
    "# Plot the spectrogram\n",
    "plt.pcolormesh(times, frequencies, 10 * np.log10(spectrogram_data), cmap='magma')\n",
    "plt.title('Raw Spectrogram', fontsize=19)  # Set title font size to 16\n",
    "plt.ylabel('Frequency [Hz]', fontsize=19)   # Set ylabel font size to 14\n",
    "plt.xlabel('Time (seconds)', fontsize=19)       # Set xlabel font size to 14\n",
    "colorbar = plt.colorbar(label='Intensity [dB]')\n",
    "colorbar.ax.yaxis.label.set_fontsize(18)   # Set colorbar label font size to 14\n",
    "plt.show()\n"
   ]
  },
  {
   "cell_type": "code",
   "execution_count": null,
   "metadata": {},
   "outputs": [],
   "source": [
    "import numpy as np\n",
    "import matplotlib.pyplot as plt\n",
    "from scipy.io import wavfile\n",
    "import librosa\n",
    "import librosa.display\n",
    "\n",
    "# Load the audio file\n",
    "sample_rate, samples = wavfile.read('/home/alien/Git/DATA/ml-stuttering-events-dataset/CLIP_DIR/HeStutters/0/HeStutters_0_1.wav')\n",
    "\n",
    "# Compute the Mel spectrogram\n",
    "mel_spectrogram = librosa.feature.melspectrogram(y=samples.astype(float), sr=sample_rate, n_fft=2048, hop_length=512, n_mels=128)\n",
    "\n",
    "# Convert power to dB scale (log scale)\n",
    "mel_spectrogram_db = librosa.power_to_db(mel_spectrogram, ref=np.max)\n",
    "\n",
    "freq_mask = tfio.audio.freq_mask(mel_spectrogram_db, param=8)\n",
    "time_mask = tfio.audio.time_mask(freq_mask, param=8) # FINAL\n",
    "\n",
    "rotated_spectrogram = np.rot90(time_mask.numpy(), k=1)\n",
    "\n",
    "# Plot the Mel spectrogram\n",
    "librosa.display.specshow(time_mask.numpy(), x_axis='time', y_axis='mel', sr=sample_rate, hop_length=512, cmap='magma')\n",
    "colorbar = plt.colorbar(label='Intensity [dB]',format='%+2.0f dB')\n",
    "colorbar.ax.yaxis.label.set_fontsize(18)   # Set colorbar label font size to 14\n",
    "plt.title('Mel Spectrogram Augmented', fontsize=19)\n",
    "plt.xlabel('Time (seconds)', fontsize=19)\n",
    "plt.ylabel('Frequency (Mel)', fontsize=19)\n",
    "plt.tight_layout()\n",
    "plt.show()\n"
   ]
  },
  {
   "cell_type": "code",
   "execution_count": null,
   "metadata": {},
   "outputs": [],
   "source": [
    "import numpy as np\n",
    "import matplotlib.pyplot as plt\n",
    "from scipy.io import wavfile\n",
    "\n",
    "# Load the audio file\n",
    "sample_rate, samples = wavfile.read('/home/alien/Git/DATA/ml-stuttering-events-dataset/CLIP_DIR/HeStutters/0/HeStutters_0_1.wav')\n",
    "\n",
    "# Calculate time array\n",
    "duration = len(samples) / sample_rate\n",
    "time = np.linspace(0., duration, len(samples))\n",
    "\n",
    "# Plot the soundwave\n",
    "plt.plot(time, samples, color='black')\n",
    "plt.title('Raw Audio Waveform', fontsize=19)\n",
    "plt.xlabel('Time (seconds)', fontsize=19)\n",
    "plt.ylabel('Amplitude', fontsize=19)\n",
    "plt.show()\n"
   ]
  },
  {
   "cell_type": "code",
   "execution_count": null,
   "metadata": {},
   "outputs": [],
   "source": []
  }
 ],
 "metadata": {
  "kernelspec": {
   "display_name": "renv",
   "language": "python",
   "name": "python3"
  },
  "language_info": {
   "codemirror_mode": {
    "name": "ipython",
    "version": 3
   },
   "file_extension": ".py",
   "mimetype": "text/x-python",
   "name": "python",
   "nbconvert_exporter": "python",
   "pygments_lexer": "ipython3",
   "version": "3.11.7"
  }
 },
 "nbformat": 4,
 "nbformat_minor": 2
}
