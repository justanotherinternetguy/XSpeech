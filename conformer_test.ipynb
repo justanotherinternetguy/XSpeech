{
 "cells": [
  {
   "cell_type": "code",
   "execution_count": 9,
   "metadata": {},
   "outputs": [],
   "source": [
    "import torch\n",
    "from conformer import ConformerConvModule, ConformerBlock, Conformer"
   ]
  },
  {
   "cell_type": "code",
   "execution_count": 7,
   "metadata": {},
   "outputs": [
    {
     "name": "stdout",
     "output_type": "stream",
     "text": [
      "tensor([[[ 0.5265, -0.4810,  0.1760,  ...,  0.3470, -0.9452,  0.7958],\n",
      "         [ 0.8491, -1.6638, -0.5008,  ..., -2.3336,  0.4957,  0.7496],\n",
      "         [-0.2855,  0.2087, -1.1082,  ...,  1.2685,  0.2433,  0.3270],\n",
      "         ...,\n",
      "         [-0.9187,  1.2772, -0.7080,  ..., -0.4587,  0.1281,  1.1617],\n",
      "         [-1.8390, -0.2245,  0.9514,  ...,  0.4004, -0.1579, -1.0373],\n",
      "         [ 1.1652, -1.9307,  0.8463,  ...,  0.6792, -0.1495,  0.6091]]])\n",
      "tensor([[[ 0.5922, -0.5241, -0.1524,  ...,  0.0465, -0.9541,  0.7753],\n",
      "         [ 0.9469, -1.8314, -0.5312,  ..., -2.6137,  0.4106,  0.6094],\n",
      "         [-0.2634,  0.1208, -1.2688,  ...,  1.1890,  0.1873,  0.5199],\n",
      "         ...,\n",
      "         [-0.7835,  1.5197, -1.1714,  ..., -0.3793,  0.0170,  1.3951],\n",
      "         [-1.7959, -0.4181,  0.5922,  ...,  0.8836, -0.5154, -0.7655],\n",
      "         [ 1.5140, -1.9135,  0.6860,  ...,  0.4897, -0.2789,  0.2855]]],\n",
      "       grad_fn=<AddBackward0>)\n"
     ]
    }
   ],
   "source": [
    "layer = ConformerConvModule(\n",
    "    dim = 512,\n",
    "    causal = False,             # auto-regressive or not - 1d conv will be made causal with padding if so\n",
    "    expansion_factor = 2,       # what multiple of the dimension to expand for the depthwise convolution\n",
    "    kernel_size = 31,           # kernel size, 17 - 31 was said to be optimal\n",
    "    dropout = 0.                # dropout at the very end\n",
    ")\n",
    "\n",
    "x = torch.randn(1, 1024, 512)\n",
    "print(x)\n",
    "x = layer(x) + x\n",
    "print(x)"
   ]
  },
  {
   "cell_type": "code",
   "execution_count": 8,
   "metadata": {},
   "outputs": [
    {
     "name": "stdout",
     "output_type": "stream",
     "text": [
      "tensor([[[ 2.0100,  1.2666, -0.4990,  ..., -0.3092,  0.1367, -0.0962],\n",
      "         [-0.0834,  1.3541, -0.1584,  ...,  0.1919, -0.1561,  0.3935],\n",
      "         [ 0.7074, -0.3509, -1.4604,  ..., -1.6113, -0.9696,  0.3001],\n",
      "         ...,\n",
      "         [ 1.5183,  0.5957, -1.7596,  ...,  0.3979, -0.4933, -0.5757],\n",
      "         [ 2.2552,  0.3020,  0.4947,  ..., -0.2974, -0.7883,  0.6733],\n",
      "         [ 0.6021, -0.3604,  0.8213,  ...,  1.4099, -0.0175, -0.1067]]])\n",
      "tensor([[[ 2.0100,  1.2666, -0.4990,  ..., -0.3092,  0.1367, -0.0962],\n",
      "         [-0.0834,  1.3541, -0.1584,  ...,  0.1919, -0.1561,  0.3935],\n",
      "         [ 0.7074, -0.3509, -1.4604,  ..., -1.6113, -0.9696,  0.3001],\n",
      "         ...,\n",
      "         [ 1.5183,  0.5957, -1.7596,  ...,  0.3979, -0.4933, -0.5757],\n",
      "         [ 2.2552,  0.3020,  0.4947,  ..., -0.2974, -0.7883,  0.6733],\n",
      "         [ 0.6021, -0.3604,  0.8213,  ...,  1.4099, -0.0175, -0.1067]]])\n"
     ]
    }
   ],
   "source": [
    "block = ConformerBlock(\n",
    "    dim = 512,\n",
    "    dim_head = 64,\n",
    "    heads = 8,\n",
    "    ff_mult = 4,\n",
    "    conv_expansion_factor = 2,\n",
    "    conv_kernel_size = 31,\n",
    "    attn_dropout = 0.,\n",
    "    ff_dropout = 0.,\n",
    "    conv_dropout = 0.\n",
    ")\n",
    "\n",
    "x = torch.randn(1, 1024, 512)\n",
    "print(x)\n",
    "\n",
    "block(x) # (1, 1024, 512)\n",
    "print(x)\n"
   ]
  },
  {
   "cell_type": "code",
   "execution_count": 10,
   "metadata": {},
   "outputs": [
    {
     "data": {
      "text/plain": [
       "tensor([[[-0.2011,  1.0815, -1.2923,  ...,  0.3705,  0.5901,  1.1830],\n",
       "         [ 1.4419, -0.9692, -0.0616,  ...,  0.8974,  0.4045, -0.2396],\n",
       "         [ 0.8609, -0.7805, -0.4860,  ..., -0.2618,  1.1178, -0.0750],\n",
       "         ...,\n",
       "         [ 1.0500, -0.2999, -0.0979,  ...,  1.3331, -2.2303, -0.4900],\n",
       "         [ 1.2021,  2.0945,  0.2122,  ...,  0.0690, -1.1321, -1.1737],\n",
       "         [ 1.6938,  1.6155, -0.2591,  ..., -0.2987, -2.6603,  0.0206]]],\n",
       "       grad_fn=<NativeLayerNormBackward0>)"
      ]
     },
     "execution_count": 10,
     "metadata": {},
     "output_type": "execute_result"
    }
   ],
   "source": [
    "conformer = Conformer(\n",
    "    dim = 512,\n",
    "    depth = 12,          # 12 blocks\n",
    "    dim_head = 64,\n",
    "    heads = 8,\n",
    "    ff_mult = 4,\n",
    "    conv_expansion_factor = 2,\n",
    "    conv_kernel_size = 31,\n",
    "    attn_dropout = 0.,\n",
    "    ff_dropout = 0.,\n",
    "    conv_dropout = 0.\n",
    ")\n",
    "\n",
    "x = torch.randn(1, 1024, 512)\n",
    "\n",
    "conformer(x) # (1, 1024, 512)\n"
   ]
  },
  {
   "cell_type": "code",
   "execution_count": null,
   "metadata": {},
   "outputs": [],
   "source": []
  }
 ],
 "metadata": {
  "kernelspec": {
   "display_name": "renv",
   "language": "python",
   "name": "python3"
  },
  "language_info": {
   "codemirror_mode": {
    "name": "ipython",
    "version": 3
   },
   "file_extension": ".py",
   "mimetype": "text/x-python",
   "name": "python",
   "nbconvert_exporter": "python",
   "pygments_lexer": "ipython3",
   "version": "3.11.7"
  }
 },
 "nbformat": 4,
 "nbformat_minor": 2
}
